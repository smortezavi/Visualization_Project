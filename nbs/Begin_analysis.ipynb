{
 "cells": [
  {
   "cell_type": "markdown",
   "metadata": {},
   "source": [
    "## Imports"
   ]
  },
  {
   "cell_type": "code",
   "execution_count": 31,
   "metadata": {},
   "outputs": [],
   "source": [
    "import plotly\n",
    "# Create an account with plotly and make a useranme and get api key\n",
    "plotly.tools.set_credentials_file(username='jigull', api_key='0ENaPTtHlDwDDYZxFwHo')\n"
   ]
  },
  {
   "cell_type": "code",
   "execution_count": 32,
   "metadata": {},
   "outputs": [],
   "source": [
    "import pandas as pd\n",
    "import numpy as np\n",
    "import datetime as datetime\n",
    "import plotly.plotly as py\n",
    "import plotly.figure_factory as ff\n",
    "import plotly.graph_objs as go\n",
    "from plotly.graph_objs import *\n",
    "%matplotlib inline\n",
    "import plotly.tools as tls"
   ]
  },
  {
   "cell_type": "markdown",
   "metadata": {},
   "source": [
    "## Data"
   ]
  },
  {
   "cell_type": "code",
   "execution_count": 18,
   "metadata": {
    "collapsed": true
   },
   "outputs": [],
   "source": [
    "final_data = pd.read_csv('../data/final-data-commaremoved.csv')"
   ]
  },
  {
   "cell_type": "markdown",
   "metadata": {},
   "source": [
    "## Functions"
   ]
  },
  {
   "cell_type": "code",
   "execution_count": 19,
   "metadata": {
    "collapsed": true
   },
   "outputs": [],
   "source": [
    "def replace(letter):\n",
    "    if letter == '-':\n",
    "        return 4090.0\n",
    "    else:\n",
    "        return(1000*float(letter.strip('K')))"
   ]
  },
  {
   "cell_type": "code",
   "execution_count": 20,
   "metadata": {
    "collapsed": true
   },
   "outputs": [],
   "source": [
    "final_data['dow_vol'] = final_data.dow_vol.map(lambda x: float(x.strip('M'))*1000000)\n",
    "final_data['gold_vol'] = final_data.gold_vol.map(lambda x: replace(x))"
   ]
  },
  {
   "cell_type": "markdown",
   "metadata": {},
   "source": [
    "## Plots"
   ]
  },
  {
   "cell_type": "markdown",
   "metadata": {},
   "source": [
    "** In this project we will investigate bitcoins role in the world market**"
   ]
  },
  {
   "cell_type": "code",
   "execution_count": 21,
   "metadata": {},
   "outputs": [
    {
     "data": {
      "text/html": [
       "<iframe id=\"igraph\" scrolling=\"no\" style=\"border:none;\" seamless=\"seamless\" src=\"https://plot.ly/~jigull/94.embed\" height=\"525px\" width=\"100%\"></iframe>"
      ],
      "text/plain": [
       "<plotly.tools.PlotlyDisplay object>"
      ]
     },
     "execution_count": 21,
     "metadata": {},
     "output_type": "execute_result"
    }
   ],
   "source": [
    "# An initial look of our markets\n",
    "\n",
    "df = final_data\n",
    "data = [go.Bar(x=df.Date, y = df.bit_price)]\n",
    "py.iplot(data, filename = 'bit_coin')"
   ]
  },
  {
   "cell_type": "code",
   "execution_count": 22,
   "metadata": {},
   "outputs": [
    {
     "data": {
      "text/html": [
       "<iframe id=\"igraph\" scrolling=\"no\" style=\"border:none;\" seamless=\"seamless\" src=\"https://plot.ly/~jigull/96.embed\" height=\"525px\" width=\"100%\"></iframe>"
      ],
      "text/plain": [
       "<plotly.tools.PlotlyDisplay object>"
      ]
     },
     "execution_count": 22,
     "metadata": {},
     "output_type": "execute_result"
    }
   ],
   "source": [
    "data = [go.Bar(x=df.Date, y = df.gold_price)]\n",
    "py.iplot(data, filename = 'Gold')"
   ]
  },
  {
   "cell_type": "code",
   "execution_count": 23,
   "metadata": {},
   "outputs": [
    {
     "data": {
      "text/html": [
       "<iframe id=\"igraph\" scrolling=\"no\" style=\"border:none;\" seamless=\"seamless\" src=\"https://plot.ly/~jigull/98.embed\" height=\"525px\" width=\"100%\"></iframe>"
      ],
      "text/plain": [
       "<plotly.tools.PlotlyDisplay object>"
      ]
     },
     "execution_count": 23,
     "metadata": {},
     "output_type": "execute_result"
    }
   ],
   "source": [
    "data = [go.Bar(x=df.Date, y = df.eur_price)]\n",
    "py.iplot(data, filename = 'eur_price')"
   ]
  },
  {
   "cell_type": "code",
   "execution_count": 24,
   "metadata": {},
   "outputs": [
    {
     "data": {
      "text/html": [
       "<iframe id=\"igraph\" scrolling=\"no\" style=\"border:none;\" seamless=\"seamless\" src=\"https://plot.ly/~jigull/100.embed\" height=\"525px\" width=\"100%\"></iframe>"
      ],
      "text/plain": [
       "<plotly.tools.PlotlyDisplay object>"
      ]
     },
     "execution_count": 24,
     "metadata": {},
     "output_type": "execute_result"
    }
   ],
   "source": [
    "data = [go.Bar(x=df.Date, y = df.dow_price)]\n",
    "py.iplot(data, filename = 'Dow_price')"
   ]
  },
  {
   "cell_type": "markdown",
   "metadata": {},
   "source": [
    "## Non-normalized plots"
   ]
  },
  {
   "cell_type": "code",
   "execution_count": 25,
   "metadata": {},
   "outputs": [
    {
     "data": {
      "text/html": [
       "<iframe id=\"igraph\" scrolling=\"no\" style=\"border:none;\" seamless=\"seamless\" src=\"https://plot.ly/~jigull/7.embed\" height=\"525px\" width=\"100%\"></iframe>"
      ],
      "text/plain": [
       "<plotly.tools.PlotlyDisplay object>"
      ]
     },
     "execution_count": 25,
     "metadata": {},
     "output_type": "execute_result"
    }
   ],
   "source": [
    "dow_ = go.Scatter(\n",
    "            x = df.Date,\n",
    "            y = df.dow_price,\n",
    "            name = \"DOW\",\n",
    "            line = dict(color = '#17BECF'),\n",
    "            opacity = 0.8)\n",
    "\n",
    "gold_ = go.Scatter(\n",
    "                x = df.Date,\n",
    "                y = df.gold_price,\n",
    "                name = \"GOLD\",\n",
    "                line = dict(color = '#17BECF'),\n",
    "                opacity = 0.8)\n",
    "\n",
    "euro_ = go.Scatter(\n",
    "                x = df.Date,\n",
    "                y = df.eur_price,\n",
    "                name = \"EURO\",\n",
    "                line = dict(color = '#7F7F7F'),\n",
    "                opacity = 0.8)\n",
    "\n",
    "bit_ = go.Scatter(\n",
    "                x = df.Date,\n",
    "                y = df.bit_price,\n",
    "                name = \"BIT-COIN\",\n",
    "                line = dict(color = 'green'),\n",
    "                opacity = 0.8)\n",
    "\n",
    "data = [dow_, gold_, euro_, bit_]\n",
    "\n",
    "layout = dict(\n",
    "    title = \"Markets\",\n",
    "    xaxis = dict(\n",
    "        range = ['2015-01-12','2018-03-26'])\n",
    ")\n",
    "\n",
    "fig = dict(data=data, layout=layout)\n",
    "py.iplot(fig, filename = \"Manually Set Range\")"
   ]
  },
  {
   "cell_type": "markdown",
   "metadata": {},
   "source": [
    "## Normalized Plots"
   ]
  },
  {
   "cell_type": "code",
   "execution_count": 58,
   "metadata": {},
   "outputs": [
    {
     "data": {
      "text/html": [
       "<iframe id=\"igraph\" scrolling=\"no\" style=\"border:none;\" seamless=\"seamless\" src=\"https://plot.ly/~jigull/7.embed\" height=\"525px\" width=\"100%\"></iframe>"
      ],
      "text/plain": [
       "<plotly.tools.PlotlyDisplay object>"
      ]
     },
     "execution_count": 58,
     "metadata": {},
     "output_type": "execute_result"
    }
   ],
   "source": [
    "dow_norm = go.Scatter(\n",
    "            x = df.Date,\n",
    "            y = df.dow_price_soft_max,\n",
    "            name = \"DJIA\",\n",
    "            line = dict(color = '#17BECF'),\n",
    "            opacity = 0.8)\n",
    "\n",
    "gold_norm = go.Scatter(\n",
    "                x = df.Date,\n",
    "                y = df.gold_price_soft_max,\n",
    "                name = \"GOLD\",\n",
    "                line = dict(color = '#17BECF'),\n",
    "                opacity = 0.8)\n",
    "\n",
    "euro_norm = go.Scatter(\n",
    "                x = df.Date,\n",
    "                y = df.eur_price_soft_max,\n",
    "                name = \"EURO\",\n",
    "                line = dict(color = '#7F7F7F'),\n",
    "                opacity = 0.8)\n",
    "\n",
    "bit_norm = go.Scatter(\n",
    "                x = df.Date,\n",
    "                y = df.bit_price_soft_max,\n",
    "                name = \"BIT-COIN\",\n",
    "                line = dict(color = 'green'),\n",
    "                opacity = 0.8)\n",
    "\n",
    "data = [dow_norm, gold_norm, euro_norm, bit_norm]\n",
    "\n",
    "layout = dict(\n",
    "    title = \"Markets\",\n",
    "    xaxis = dict(\n",
    "        range = ['2015-01-12','2018-03-26'])\n",
    ")\n",
    "\n",
    "fig = dict(data=data, layout=layout)\n",
    "py.iplot(fig, filename = \"Manually Set Range\")"
   ]
  },
  {
   "cell_type": "markdown",
   "metadata": {},
   "source": [
    "** We further log the bit prices and then divide by max to get a better picture of the different markets **"
   ]
  },
  {
   "cell_type": "code",
   "execution_count": 57,
   "metadata": {},
   "outputs": [
    {
     "data": {
      "text/html": [
       "<iframe id=\"igraph\" scrolling=\"no\" style=\"border:none;\" seamless=\"seamless\" src=\"https://plot.ly/~jigull/86.embed\" height=\"525px\" width=\"100%\"></iframe>"
      ],
      "text/plain": [
       "<plotly.tools.PlotlyDisplay object>"
      ]
     },
     "execution_count": 57,
     "metadata": {},
     "output_type": "execute_result"
    }
   ],
   "source": [
    "dow_norm = go.Scatter(\n",
    "            x = df.Date,\n",
    "            y = df.dow_price_soft_max,\n",
    "            name = \"DJIA\",\n",
    "            line = dict(color = '#17BECF'),\n",
    "            opacity = 0.8)\n",
    "\n",
    "gold_norm = go.Scatter(\n",
    "                x = df.Date,\n",
    "                y = df.gold_price_soft_max,\n",
    "                name = \"GOLD\",\n",
    "                line = dict(color = '#17BECF'),\n",
    "                opacity = 0.8)\n",
    "\n",
    "euro_norm = go.Scatter(\n",
    "                x = df.Date,\n",
    "                y = df.eur_price_soft_max,\n",
    "                name = \"EURO\",\n",
    "                line = dict(color = '#7F7F7F'),\n",
    "                opacity = 0.8)\n",
    "\n",
    "bit_norm_log = go.Scatter(\n",
    "                x = df.Date,\n",
    "                y = df.bit_price_log_norm,\n",
    "                name = \"BITCOIN\",\n",
    "                line = dict(color = 'green'),\n",
    "                opacity = 0.8)\n",
    "\n",
    "data = [dow_norm, gold_norm, euro_norm, bit_norm_log]\n",
    "\n",
    "\n",
    "layout = go.Layout(\n",
    "    title = \"Normalized Market Values\",\n",
    "    xaxis = dict(\n",
    "        title='Date',\n",
    "        range = ['2015-01-12','2018-03-26']),\n",
    "    yaxis = dict(\n",
    "        title='Log Normalized Prices'\n",
    ")\n",
    ")\n",
    "\n",
    "fig = dict(data=data, layout=layout)\n",
    "py.iplot(fig, filename = \"4 markets\")"
   ]
  },
  {
   "cell_type": "markdown",
   "metadata": {
    "collapsed": true
   },
   "source": [
    "## Let's now look closely at each market vs BIT-Coin"
   ]
  },
  {
   "cell_type": "code",
   "execution_count": 59,
   "metadata": {},
   "outputs": [
    {
     "data": {
      "text/html": [
       "<iframe id=\"igraph\" scrolling=\"no\" style=\"border:none;\" seamless=\"seamless\" src=\"https://plot.ly/~jigull/36.embed\" height=\"525px\" width=\"100%\"></iframe>"
      ],
      "text/plain": [
       "<plotly.tools.PlotlyDisplay object>"
      ]
     },
     "execution_count": 59,
     "metadata": {},
     "output_type": "execute_result"
    }
   ],
   "source": [
    "dow_norm = go.Scatter(\n",
    "            x = df.Date,\n",
    "            y = df.dow_price_soft_max,\n",
    "            name = \"DJIA\",\n",
    "            line = dict(color = '#17BECF'),\n",
    "            opacity = 0.8)\n",
    "\n",
    "\n",
    "bit_norm_log = go.Scatter(\n",
    "                x = df.Date,\n",
    "                y = df.bit_price_log_norm,\n",
    "                name = \"BITCOIN\",\n",
    "                line = dict(color = 'green'),\n",
    "                opacity = 0.8)\n",
    "\n",
    "data = [dow_norm, bit_norm_log]\n",
    "\n",
    "layout = dict(\n",
    "    title = \"DJIA vs BitCoin\",\n",
    "    xaxis = dict(\n",
    "        title = 'Date',\n",
    "        range = ['2015-01-12','2018-03-26']),\n",
    "    yaxis = dict(\n",
    "        title='Log Normalized Prices'\n",
    ")\n",
    "\n",
    ")\n",
    "\n",
    "fig = dict(data=data, layout=layout)\n",
    "py.iplot(fig, filename = \"Dow vs Bit\")"
   ]
  },
  {
   "cell_type": "code",
   "execution_count": 76,
   "metadata": {},
   "outputs": [
    {
     "data": {
      "text/plain": [
       "'<iframe id=\"igraph\" scrolling=\"no\" style=\"border:none;\" seamless=\"seamless\" src=\"https://plot.ly/~jigull/14.embed\" height=\"525\" width=\"100%\"></iframe>'"
      ]
     },
     "execution_count": 76,
     "metadata": {},
     "output_type": "execute_result"
    }
   ],
   "source": [
    "tls.get_embed('https://plot.ly/~jigull/14/correlation-between-markets/')"
   ]
  },
  {
   "cell_type": "markdown",
   "metadata": {},
   "source": [
    "** From First glance there seems to be positive correlation between Dow  and Bit-Coin prices **"
   ]
  },
  {
   "cell_type": "code",
   "execution_count": 60,
   "metadata": {},
   "outputs": [
    {
     "data": {
      "text/html": [
       "<iframe id=\"igraph\" scrolling=\"no\" style=\"border:none;\" seamless=\"seamless\" src=\"https://plot.ly/~jigull/102.embed\" height=\"525px\" width=\"100%\"></iframe>"
      ],
      "text/plain": [
       "<plotly.tools.PlotlyDisplay object>"
      ]
     },
     "execution_count": 60,
     "metadata": {},
     "output_type": "execute_result"
    }
   ],
   "source": [
    "euro_norm = go.Scatter(\n",
    "                x = df.Date,\n",
    "                y = df.eur_price_soft_max,\n",
    "                name = \"EURO\",\n",
    "                line = dict(color = '#7F7F7F'),\n",
    "                opacity = 0.8)\n",
    "\n",
    "bit_norm_log = go.Scatter(\n",
    "                x = df.Date,\n",
    "                y = df.bit_price_log_norm,\n",
    "                name = \"BITCOIN\",\n",
    "                line = dict(color = 'green'),\n",
    "                opacity = 0.8)\n",
    "\n",
    "data = [euro_norm, bit_norm_log]\n",
    "\n",
    "layout = dict(\n",
    "    title = \"Euro vs BitCoin\",\n",
    "    xaxis = dict(\n",
    "        title = 'Date',\n",
    "        range = ['2015-01-12','2018-03-26']),\n",
    "     yaxis = dict(\n",
    "        title='Log Normalized Prices'\n",
    "    \n",
    "    )\n",
    ")\n",
    " \n",
    "\n",
    "fig = dict(data=data, layout=layout)\n",
    "py.iplot(fig, filename = \"Euro vs Bit\")"
   ]
  },
  {
   "cell_type": "markdown",
   "metadata": {},
   "source": [
    "** From initial observations there does not seem to be any correlation between Euro and Bit-Coin data set on our time period**"
   ]
  },
  {
   "cell_type": "code",
   "execution_count": 61,
   "metadata": {},
   "outputs": [
    {
     "data": {
      "text/html": [
       "<iframe id=\"igraph\" scrolling=\"no\" style=\"border:none;\" seamless=\"seamless\" src=\"https://plot.ly/~jigull/7.embed\" height=\"525px\" width=\"100%\"></iframe>"
      ],
      "text/plain": [
       "<plotly.tools.PlotlyDisplay object>"
      ]
     },
     "execution_count": 61,
     "metadata": {},
     "output_type": "execute_result"
    }
   ],
   "source": [
    "gold_norm = go.Scatter(\n",
    "                x = df.Date,\n",
    "                y = df.gold_price_soft_max,\n",
    "                name = \"GOLD\",\n",
    "                line = dict(color = '#17BECF'),\n",
    "                opacity = 0.8)\n",
    "\n",
    "\n",
    "bit_norm_log = go.Scatter(\n",
    "                x = df.Date,\n",
    "                y = df.bit_price_log_norm,\n",
    "                name = \"BITCOIN\",\n",
    "                line = dict(color = 'green'),\n",
    "                opacity = 0.8)\n",
    "\n",
    "data = [gold_norm, bit_norm_log]\n",
    "\n",
    "layout = dict(\n",
    "    title = \"Gold vs BitCoin\",\n",
    "    xaxis = dict(\n",
    "        title = 'Date',\n",
    "        range = ['2015-01-12','2018-03-26']),\n",
    "    yaxis = dict(\n",
    "        title='Log Normalized Prices'\n",
    ")\n",
    ")\n",
    "\n",
    "fig = dict(data=data, layout=layout)\n",
    "py.iplot(fig, filename = \"Manually Set Range\")"
   ]
  },
  {
   "cell_type": "markdown",
   "metadata": {},
   "source": [
    "** Based on our observations there seems to be a negative correlation between Gold and Bit-Coing **"
   ]
  },
  {
   "cell_type": "code",
   "execution_count": 63,
   "metadata": {
    "collapsed": true
   },
   "outputs": [],
   "source": [
    "from scipy import stats\n",
    "# Y and Z are numpy arrays or lists of variables "
   ]
  },
  {
   "cell_type": "code",
   "execution_count": 64,
   "metadata": {
    "collapsed": true
   },
   "outputs": [],
   "source": [
    "bit  = np.array(df.bit_price)\n",
    "bit_vol = np.array(df.bit_vol)\n",
    "dow  = np.array(df.dow_price)\n",
    "dow_vol = np.array(df.dow_vol)\n",
    "gold = np.array(df.gold_price)\n",
    "gold_vol = np.array(df.gold_vol)\n",
    "euro = np.array(df.eur_price)"
   ]
  },
  {
   "cell_type": "code",
   "execution_count": 65,
   "metadata": {},
   "outputs": [
    {
     "data": {
      "text/plain": [
       "(0.861069917137552, 1.1713113923754236e-238)"
      ]
     },
     "execution_count": 65,
     "metadata": {},
     "output_type": "execute_result"
    }
   ],
   "source": [
    "stats.pearsonr(bit,dow)\n",
    "stats.pearsonr(bit,dow)\n",
    "stats.pearsonr(bit,dow)\n",
    "stats.pearsonr(bit,dow)\n",
    "stats.pearsonr(bit,dow)\n",
    "stats.pearsonr(bit,dow)\n",
    "stats.pearsonr(bit,dow)\n",
    "stats.pearsonr(bit,dow)\n",
    "stats.pearsonr(bit,dow)\n",
    "stats.pearsonr(bit,dow)\n",
    "stats.pearsonr(bit,dow)"
   ]
  },
  {
   "cell_type": "code",
   "execution_count": 66,
   "metadata": {
    "collapsed": true
   },
   "outputs": [],
   "source": [
    "list_of_markets = [bit, dow, gold, euro]"
   ]
  },
  {
   "cell_type": "code",
   "execution_count": 67,
   "metadata": {
    "collapsed": true
   },
   "outputs": [],
   "source": [
    "correlation_matrix = np.zeros((4,4))"
   ]
  },
  {
   "cell_type": "code",
   "execution_count": 68,
   "metadata": {
    "collapsed": true
   },
   "outputs": [],
   "source": [
    "for i in range(len(list_of_markets)):\n",
    "    for j in range(len(list_of_markets)):\n",
    "        correlation_matrix[i,j] \\\n",
    "        = stats.pearsonr(list_of_markets[i],list_of_markets[j])[0]"
   ]
  },
  {
   "cell_type": "code",
   "execution_count": 69,
   "metadata": {},
   "outputs": [
    {
     "data": {
      "text/plain": [
       "array([[1.        , 0.86106992, 0.44921903, 0.71917515],\n",
       "       [0.86106992, 1.        , 0.57707318, 0.64167602],\n",
       "       [0.44921903, 0.57707318, 1.        , 0.55440362],\n",
       "       [0.71917515, 0.64167602, 0.55440362, 1.        ]])"
      ]
     },
     "execution_count": 69,
     "metadata": {},
     "output_type": "execute_result"
    }
   ],
   "source": [
    "correlation_matrix"
   ]
  },
  {
   "cell_type": "code",
   "execution_count": 70,
   "metadata": {
    "collapsed": true
   },
   "outputs": [],
   "source": [
    "data = pd.DataFrame(correlation_matrix)"
   ]
  },
  {
   "cell_type": "code",
   "execution_count": 71,
   "metadata": {},
   "outputs": [
    {
     "data": {
      "text/html": [
       "<iframe id=\"igraph\" scrolling=\"no\" style=\"border:none;\" seamless=\"seamless\" src=\"https://plot.ly/~jigull/14.embed\" height=\"525px\" width=\"100%\"></iframe>"
      ],
      "text/plain": [
       "<plotly.tools.PlotlyDisplay object>"
      ]
     },
     "execution_count": 71,
     "metadata": {},
     "output_type": "execute_result"
    }
   ],
   "source": [
    "markets = ['BIT','DJIA','GOLD','EURO']\n",
    "data = [\n",
    "   go.Heatmap(\n",
    "       z=data.values.tolist(),\n",
    "       x=markets,\n",
    "       y=markets,\n",
    "       colorscale='spectral',\n",
    "   )\n",
    "]\n",
    "\n",
    "layout = go.Layout(\n",
    "   title='Correlation Between Markets',\n",
    ")\n",
    "\n",
    "fig = go.Figure(data=data, layout=layout)\n",
    "py.iplot(fig, filename='datetime-heatmap')\n",
    "\n"
   ]
  },
  {
   "cell_type": "markdown",
   "metadata": {},
   "source": [
    "** From the above visualization we can clearly see that DOW has the strongest correlation with BIT and GOLD has the least correlat with BIT \n",
    "Although initially there did not seem to be any correlation between euro and BIT there seems to be a pretty strong correlation between the markets**"
   ]
  },
  {
   "cell_type": "code",
   "execution_count": 72,
   "metadata": {
    "collapsed": true
   },
   "outputs": [],
   "source": [
    "list_of_prc_vol = [bit, dow, gold, euro, bit_vol, dow_vol, gold_vol]"
   ]
  },
  {
   "cell_type": "code",
   "execution_count": 73,
   "metadata": {
    "collapsed": true
   },
   "outputs": [],
   "source": [
    "correlation_matrix_1 = np.zeros((7, 7))"
   ]
  },
  {
   "cell_type": "code",
   "execution_count": 74,
   "metadata": {
    "collapsed": true
   },
   "outputs": [],
   "source": [
    "for i in range(len(list_of_prc_vol)):\n",
    "    for j in range(len(list_of_prc_vol)):\n",
    "        correlation_matrix_1[i,j] \\\n",
    "        = stats.pearsonr(list_of_prc_vol[i],list_of_prc_vol[j])[0]"
   ]
  },
  {
   "cell_type": "code",
   "execution_count": 75,
   "metadata": {},
   "outputs": [
    {
     "data": {
      "text/html": [
       "<iframe id=\"igraph\" scrolling=\"no\" style=\"border:none;\" seamless=\"seamless\" src=\"https://plot.ly/~jigull/78.embed\" height=\"525px\" width=\"100%\"></iframe>"
      ],
      "text/plain": [
       "<plotly.tools.PlotlyDisplay object>"
      ]
     },
     "execution_count": 75,
     "metadata": {},
     "output_type": "execute_result"
    }
   ],
   "source": [
    "data = pd.DataFrame(correlation_matrix_1)\n",
    "markets = ['BIT', 'DJIA', 'GOLD', 'EURO', 'BIT_VOL', 'DOW_VOL', 'GOLD_VOL']\n",
    "data = [\n",
    "   go.Heatmap(\n",
    "       z=data.values.tolist(),\n",
    "       x=markets,\n",
    "       y=markets,\n",
    "       colorscale='spectral',\n",
    "   )\n",
    "]\n",
    "\n",
    "layout = go.Layout(\n",
    "   title='Correlation Between Markets',\n",
    ")\n",
    "\n",
    "fig = go.Figure(data=data, layout=layout)\n",
    "py.iplot(fig, filename='prc_vol_heatmap')\n",
    "\n",
    "\n"
   ]
  },
  {
   "cell_type": "code",
   "execution_count": null,
   "metadata": {
    "collapsed": true
   },
   "outputs": [],
   "source": []
  }
 ],
 "metadata": {
  "kernelspec": {
   "display_name": "Python 3",
   "language": "python",
   "name": "python3"
  },
  "language_info": {
   "codemirror_mode": {
    "name": "ipython",
    "version": 3
   },
   "file_extension": ".py",
   "mimetype": "text/x-python",
   "name": "python",
   "nbconvert_exporter": "python",
   "pygments_lexer": "ipython3",
   "version": "3.6.2"
  }
 },
 "nbformat": 4,
 "nbformat_minor": 2
}
